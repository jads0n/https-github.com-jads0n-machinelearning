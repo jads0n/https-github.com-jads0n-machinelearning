{
 "cells": [
  {
   "cell_type": "code",
   "execution_count": 2,
   "metadata": {},
   "outputs": [],
   "source": [
    "import pandas as pd"
   ]
  },
  {
   "cell_type": "code",
   "execution_count": 50,
   "metadata": {},
   "outputs": [],
   "source": [
    "df_turmas = pd.read_csv(\"data/output/materias_2016_2.csv\")"
   ]
  },
  {
   "cell_type": "code",
   "execution_count": 51,
   "metadata": {},
   "outputs": [
    {
     "data": {
      "text/plain": [
       "(565, 8)"
      ]
     },
     "execution_count": 51,
     "metadata": {},
     "output_type": "execute_result"
    }
   ],
   "source": [
    "df_turmas.shape"
   ]
  },
  {
   "cell_type": "code",
   "execution_count": 52,
   "metadata": {},
   "outputs": [
    {
     "data": {
      "text/plain": [
       "(401, 2)"
      ]
     },
     "execution_count": 52,
     "metadata": {},
     "output_type": "execute_result"
    }
   ],
   "source": [
    "calc3 = pd.read_csv(\"data/input/calc3_20172.csv\")\n",
    "calc3 = calc3[['discente', 'descricao']]\n",
    "calc3.shape"
   ]
  },
  {
   "cell_type": "code",
   "execution_count": 53,
   "metadata": {},
   "outputs": [
    {
     "data": {
      "text/html": [
       "<div>\n",
       "<style scoped>\n",
       "    .dataframe tbody tr th:only-of-type {\n",
       "        vertical-align: middle;\n",
       "    }\n",
       "\n",
       "    .dataframe tbody tr th {\n",
       "        vertical-align: top;\n",
       "    }\n",
       "\n",
       "    .dataframe thead th {\n",
       "        text-align: right;\n",
       "    }\n",
       "</style>\n",
       "<table border=\"1\" class=\"dataframe\">\n",
       "  <thead>\n",
       "    <tr style=\"text-align: right;\">\n",
       "      <th></th>\n",
       "      <th>discente</th>\n",
       "    </tr>\n",
       "    <tr>\n",
       "      <th>descricao</th>\n",
       "      <th></th>\n",
       "    </tr>\n",
       "  </thead>\n",
       "  <tbody>\n",
       "    <tr>\n",
       "      <th>APROVADO</th>\n",
       "      <td>35</td>\n",
       "    </tr>\n",
       "    <tr>\n",
       "      <th>APROVADO POR NOTA</th>\n",
       "      <td>126</td>\n",
       "    </tr>\n",
       "    <tr>\n",
       "      <th>CANCELADO</th>\n",
       "      <td>18</td>\n",
       "    </tr>\n",
       "    <tr>\n",
       "      <th>REPROVADO</th>\n",
       "      <td>170</td>\n",
       "    </tr>\n",
       "    <tr>\n",
       "      <th>REPROVADO POR MÉDIA E POR FALTAS</th>\n",
       "      <td>51</td>\n",
       "    </tr>\n",
       "    <tr>\n",
       "      <th>REPROVADO POR NOTA</th>\n",
       "      <td>1</td>\n",
       "    </tr>\n",
       "  </tbody>\n",
       "</table>\n",
       "</div>"
      ],
      "text/plain": [
       "                                  discente\n",
       "descricao                                 \n",
       "APROVADO                                35\n",
       "APROVADO POR NOTA                      126\n",
       "CANCELADO                               18\n",
       "REPROVADO                              170\n",
       "REPROVADO POR MÉDIA E POR FALTAS        51\n",
       "REPROVADO POR NOTA                       1"
      ]
     },
     "execution_count": 53,
     "metadata": {},
     "output_type": "execute_result"
    }
   ],
   "source": [
    "calc3.groupby('descricao').count()"
   ]
  },
  {
   "cell_type": "code",
   "execution_count": 54,
   "metadata": {},
   "outputs": [],
   "source": [
    "reprovados = ['REPROVADO', 'REPROVADO POR MÉDIA E POR FALTAS', 'REPROVADO POR NOTA', 'CANCELADO']\n",
    "calc3['descricao_c3'] = calc3['descricao'].apply(lambda x: 'REPROVADO' if x in reprovados else x)\n",
    "calc3.drop(['descricao'], axis = 1, inplace=True)"
   ]
  },
  {
   "cell_type": "code",
   "execution_count": 55,
   "metadata": {},
   "outputs": [
    {
     "data": {
      "text/html": [
       "<div>\n",
       "<style scoped>\n",
       "    .dataframe tbody tr th:only-of-type {\n",
       "        vertical-align: middle;\n",
       "    }\n",
       "\n",
       "    .dataframe tbody tr th {\n",
       "        vertical-align: top;\n",
       "    }\n",
       "\n",
       "    .dataframe thead th {\n",
       "        text-align: right;\n",
       "    }\n",
       "</style>\n",
       "<table border=\"1\" class=\"dataframe\">\n",
       "  <thead>\n",
       "    <tr style=\"text-align: right;\">\n",
       "      <th></th>\n",
       "      <th>discente</th>\n",
       "      <th>descricao_c3</th>\n",
       "    </tr>\n",
       "  </thead>\n",
       "  <tbody>\n",
       "    <tr>\n",
       "      <th>0</th>\n",
       "      <td>f0da8cabd20b23182bf870567fa07b95</td>\n",
       "      <td>APROVADO POR NOTA</td>\n",
       "    </tr>\n",
       "    <tr>\n",
       "      <th>1</th>\n",
       "      <td>f0da8cabd20b23182bf870567fa07b95</td>\n",
       "      <td>APROVADO POR NOTA</td>\n",
       "    </tr>\n",
       "    <tr>\n",
       "      <th>2</th>\n",
       "      <td>152e6b36254c3d00c7b7c9cbae6388a2</td>\n",
       "      <td>REPROVADO</td>\n",
       "    </tr>\n",
       "    <tr>\n",
       "      <th>3</th>\n",
       "      <td>bc22ae3969f4cac1064e5d907667cee9</td>\n",
       "      <td>REPROVADO</td>\n",
       "    </tr>\n",
       "    <tr>\n",
       "      <th>4</th>\n",
       "      <td>ff1e29f8ec9277e81fba89eee4260118</td>\n",
       "      <td>APROVADO POR NOTA</td>\n",
       "    </tr>\n",
       "  </tbody>\n",
       "</table>\n",
       "</div>"
      ],
      "text/plain": [
       "                           discente       descricao_c3\n",
       "0  f0da8cabd20b23182bf870567fa07b95  APROVADO POR NOTA\n",
       "1  f0da8cabd20b23182bf870567fa07b95  APROVADO POR NOTA\n",
       "2  152e6b36254c3d00c7b7c9cbae6388a2          REPROVADO\n",
       "3  bc22ae3969f4cac1064e5d907667cee9          REPROVADO\n",
       "4  ff1e29f8ec9277e81fba89eee4260118  APROVADO POR NOTA"
      ]
     },
     "execution_count": 55,
     "metadata": {},
     "output_type": "execute_result"
    }
   ],
   "source": [
    "#calc3[calc3['descricao'] == \"CANCELADO\"]\n",
    "calc3.head()"
   ]
  },
  {
   "cell_type": "code",
   "execution_count": 56,
   "metadata": {},
   "outputs": [
    {
     "data": {
      "text/plain": [
       "(584, 9)"
      ]
     },
     "execution_count": 56,
     "metadata": {},
     "output_type": "execute_result"
    }
   ],
   "source": [
    "alunos = pd.merge(df_turmas, calc3, how='left', left_on='discente', right_on='discente')\n",
    "alunos.shape"
   ]
  },
  {
   "cell_type": "code",
   "execution_count": 57,
   "metadata": {},
   "outputs": [
    {
     "data": {
      "text/plain": [
       "(565, 9)"
      ]
     },
     "execution_count": 57,
     "metadata": {},
     "output_type": "execute_result"
    }
   ],
   "source": [
    "alunos = alunos.fillna({'descricao_c3': 'NÃO PRESENTE'}).drop_duplicates()\n",
    "alunos.shape"
   ]
  },
  {
   "cell_type": "code",
   "execution_count": 58,
   "metadata": {},
   "outputs": [
    {
     "data": {
      "text/html": [
       "<div>\n",
       "<style scoped>\n",
       "    .dataframe tbody tr th:only-of-type {\n",
       "        vertical-align: middle;\n",
       "    }\n",
       "\n",
       "    .dataframe tbody tr th {\n",
       "        vertical-align: top;\n",
       "    }\n",
       "\n",
       "    .dataframe thead th {\n",
       "        text-align: right;\n",
       "    }\n",
       "</style>\n",
       "<table border=\"1\" class=\"dataframe\">\n",
       "  <thead>\n",
       "    <tr style=\"text-align: right;\">\n",
       "      <th></th>\n",
       "      <th>discente</th>\n",
       "      <th>periodoano</th>\n",
       "      <th>media_c1</th>\n",
       "      <th>faltas_c1</th>\n",
       "      <th>media_pre</th>\n",
       "      <th>faltas_pre</th>\n",
       "      <th>media_vga</th>\n",
       "      <th>faltas_vga</th>\n",
       "    </tr>\n",
       "    <tr>\n",
       "      <th>descricao_c3</th>\n",
       "      <th></th>\n",
       "      <th></th>\n",
       "      <th></th>\n",
       "      <th></th>\n",
       "      <th></th>\n",
       "      <th></th>\n",
       "      <th></th>\n",
       "      <th></th>\n",
       "    </tr>\n",
       "  </thead>\n",
       "  <tbody>\n",
       "    <tr>\n",
       "      <th>APROVADO</th>\n",
       "      <td>15</td>\n",
       "      <td>15</td>\n",
       "      <td>15</td>\n",
       "      <td>15</td>\n",
       "      <td>15</td>\n",
       "      <td>15</td>\n",
       "      <td>15</td>\n",
       "      <td>15</td>\n",
       "    </tr>\n",
       "    <tr>\n",
       "      <th>APROVADO POR NOTA</th>\n",
       "      <td>33</td>\n",
       "      <td>33</td>\n",
       "      <td>33</td>\n",
       "      <td>33</td>\n",
       "      <td>33</td>\n",
       "      <td>33</td>\n",
       "      <td>33</td>\n",
       "      <td>33</td>\n",
       "    </tr>\n",
       "    <tr>\n",
       "      <th>NÃO PRESENTE</th>\n",
       "      <td>483</td>\n",
       "      <td>483</td>\n",
       "      <td>483</td>\n",
       "      <td>483</td>\n",
       "      <td>483</td>\n",
       "      <td>483</td>\n",
       "      <td>483</td>\n",
       "      <td>483</td>\n",
       "    </tr>\n",
       "    <tr>\n",
       "      <th>REPROVADO</th>\n",
       "      <td>34</td>\n",
       "      <td>34</td>\n",
       "      <td>34</td>\n",
       "      <td>34</td>\n",
       "      <td>34</td>\n",
       "      <td>34</td>\n",
       "      <td>34</td>\n",
       "      <td>34</td>\n",
       "    </tr>\n",
       "  </tbody>\n",
       "</table>\n",
       "</div>"
      ],
      "text/plain": [
       "                   discente  periodoano  media_c1  faltas_c1  media_pre  \\\n",
       "descricao_c3                                                              \n",
       "APROVADO                 15          15        15         15         15   \n",
       "APROVADO POR NOTA        33          33        33         33         33   \n",
       "NÃO PRESENTE            483         483       483        483        483   \n",
       "REPROVADO                34          34        34         34         34   \n",
       "\n",
       "                   faltas_pre  media_vga  faltas_vga  \n",
       "descricao_c3                                          \n",
       "APROVADO                   15         15          15  \n",
       "APROVADO POR NOTA          33         33          33  \n",
       "NÃO PRESENTE              483        483         483  \n",
       "REPROVADO                  34         34          34  "
      ]
     },
     "execution_count": 58,
     "metadata": {},
     "output_type": "execute_result"
    }
   ],
   "source": [
    "alunos.groupby('descricao_c3').count()"
   ]
  },
  {
   "cell_type": "code",
   "execution_count": 59,
   "metadata": {},
   "outputs": [
    {
     "data": {
      "text/html": [
       "<div>\n",
       "<style scoped>\n",
       "    .dataframe tbody tr th:only-of-type {\n",
       "        vertical-align: middle;\n",
       "    }\n",
       "\n",
       "    .dataframe tbody tr th {\n",
       "        vertical-align: top;\n",
       "    }\n",
       "\n",
       "    .dataframe thead th {\n",
       "        text-align: right;\n",
       "    }\n",
       "</style>\n",
       "<table border=\"1\" class=\"dataframe\">\n",
       "  <thead>\n",
       "    <tr style=\"text-align: right;\">\n",
       "      <th></th>\n",
       "      <th>discente</th>\n",
       "      <th>periodoano</th>\n",
       "      <th>media_c1</th>\n",
       "      <th>faltas_c1</th>\n",
       "      <th>media_pre</th>\n",
       "      <th>faltas_pre</th>\n",
       "      <th>media_vga</th>\n",
       "      <th>faltas_vga</th>\n",
       "      <th>descricao_c3</th>\n",
       "    </tr>\n",
       "  </thead>\n",
       "  <tbody>\n",
       "    <tr>\n",
       "      <th>0</th>\n",
       "      <td>fc00a008434cab36c948886cfa41dbe1</td>\n",
       "      <td>20162</td>\n",
       "      <td>5.6</td>\n",
       "      <td>0.0</td>\n",
       "      <td>6.3</td>\n",
       "      <td>0.0</td>\n",
       "      <td>5.1</td>\n",
       "      <td>6.0</td>\n",
       "      <td>NÃO PRESENTE</td>\n",
       "    </tr>\n",
       "    <tr>\n",
       "      <th>1</th>\n",
       "      <td>48025581d9c74fab45b89e5e6e4679eb</td>\n",
       "      <td>20162</td>\n",
       "      <td>0.8</td>\n",
       "      <td>0.0</td>\n",
       "      <td>6.1</td>\n",
       "      <td>0.0</td>\n",
       "      <td>3.0</td>\n",
       "      <td>4.0</td>\n",
       "      <td>NÃO PRESENTE</td>\n",
       "    </tr>\n",
       "    <tr>\n",
       "      <th>2</th>\n",
       "      <td>22b8fb344515ec87466220f8cddd5bfe</td>\n",
       "      <td>20162</td>\n",
       "      <td>4.5</td>\n",
       "      <td>0.0</td>\n",
       "      <td>0.4</td>\n",
       "      <td>0.0</td>\n",
       "      <td>3.3</td>\n",
       "      <td>2.0</td>\n",
       "      <td>NÃO PRESENTE</td>\n",
       "    </tr>\n",
       "    <tr>\n",
       "      <th>3</th>\n",
       "      <td>112ebc0aa96309b562a1aec89b90533f</td>\n",
       "      <td>20162</td>\n",
       "      <td>0.9</td>\n",
       "      <td>0.0</td>\n",
       "      <td>1.0</td>\n",
       "      <td>0.0</td>\n",
       "      <td>4.0</td>\n",
       "      <td>2.0</td>\n",
       "      <td>NÃO PRESENTE</td>\n",
       "    </tr>\n",
       "    <tr>\n",
       "      <th>4</th>\n",
       "      <td>47f9f08422697f9860725a256fc215ef</td>\n",
       "      <td>20162</td>\n",
       "      <td>6.0</td>\n",
       "      <td>0.0</td>\n",
       "      <td>2.1</td>\n",
       "      <td>0.0</td>\n",
       "      <td>5.4</td>\n",
       "      <td>4.0</td>\n",
       "      <td>NÃO PRESENTE</td>\n",
       "    </tr>\n",
       "    <tr>\n",
       "      <th>5</th>\n",
       "      <td>7d57672aaedcbea747a8f44fa9c52e7d</td>\n",
       "      <td>20162</td>\n",
       "      <td>5.0</td>\n",
       "      <td>0.0</td>\n",
       "      <td>6.6</td>\n",
       "      <td>0.0</td>\n",
       "      <td>6.9</td>\n",
       "      <td>2.0</td>\n",
       "      <td>NÃO PRESENTE</td>\n",
       "    </tr>\n",
       "    <tr>\n",
       "      <th>6</th>\n",
       "      <td>6a4f50349e4377b0cc1f3bb69b4a8cb7</td>\n",
       "      <td>20162</td>\n",
       "      <td>6.9</td>\n",
       "      <td>0.0</td>\n",
       "      <td>5.9</td>\n",
       "      <td>0.0</td>\n",
       "      <td>8.2</td>\n",
       "      <td>4.0</td>\n",
       "      <td>REPROVADO</td>\n",
       "    </tr>\n",
       "    <tr>\n",
       "      <th>8</th>\n",
       "      <td>43549ca2a5958683e90cfbcf2d8e73d2</td>\n",
       "      <td>20162</td>\n",
       "      <td>7.8</td>\n",
       "      <td>0.0</td>\n",
       "      <td>9.0</td>\n",
       "      <td>0.0</td>\n",
       "      <td>9.5</td>\n",
       "      <td>0.0</td>\n",
       "      <td>NÃO PRESENTE</td>\n",
       "    </tr>\n",
       "    <tr>\n",
       "      <th>9</th>\n",
       "      <td>159e0ca5d45210b109b652e37dbd1484</td>\n",
       "      <td>20162</td>\n",
       "      <td>5.5</td>\n",
       "      <td>0.0</td>\n",
       "      <td>9.1</td>\n",
       "      <td>0.0</td>\n",
       "      <td>7.0</td>\n",
       "      <td>4.0</td>\n",
       "      <td>NÃO PRESENTE</td>\n",
       "    </tr>\n",
       "    <tr>\n",
       "      <th>10</th>\n",
       "      <td>5f95f0b0dbd53531cb32a72db0670219</td>\n",
       "      <td>20162</td>\n",
       "      <td>5.0</td>\n",
       "      <td>0.0</td>\n",
       "      <td>6.2</td>\n",
       "      <td>0.0</td>\n",
       "      <td>5.7</td>\n",
       "      <td>0.0</td>\n",
       "      <td>NÃO PRESENTE</td>\n",
       "    </tr>\n",
       "  </tbody>\n",
       "</table>\n",
       "</div>"
      ],
      "text/plain": [
       "                            discente  periodoano  media_c1  faltas_c1  \\\n",
       "0   fc00a008434cab36c948886cfa41dbe1       20162       5.6        0.0   \n",
       "1   48025581d9c74fab45b89e5e6e4679eb       20162       0.8        0.0   \n",
       "2   22b8fb344515ec87466220f8cddd5bfe       20162       4.5        0.0   \n",
       "3   112ebc0aa96309b562a1aec89b90533f       20162       0.9        0.0   \n",
       "4   47f9f08422697f9860725a256fc215ef       20162       6.0        0.0   \n",
       "5   7d57672aaedcbea747a8f44fa9c52e7d       20162       5.0        0.0   \n",
       "6   6a4f50349e4377b0cc1f3bb69b4a8cb7       20162       6.9        0.0   \n",
       "8   43549ca2a5958683e90cfbcf2d8e73d2       20162       7.8        0.0   \n",
       "9   159e0ca5d45210b109b652e37dbd1484       20162       5.5        0.0   \n",
       "10  5f95f0b0dbd53531cb32a72db0670219       20162       5.0        0.0   \n",
       "\n",
       "    media_pre  faltas_pre  media_vga  faltas_vga  descricao_c3  \n",
       "0         6.3         0.0        5.1         6.0  NÃO PRESENTE  \n",
       "1         6.1         0.0        3.0         4.0  NÃO PRESENTE  \n",
       "2         0.4         0.0        3.3         2.0  NÃO PRESENTE  \n",
       "3         1.0         0.0        4.0         2.0  NÃO PRESENTE  \n",
       "4         2.1         0.0        5.4         4.0  NÃO PRESENTE  \n",
       "5         6.6         0.0        6.9         2.0  NÃO PRESENTE  \n",
       "6         5.9         0.0        8.2         4.0     REPROVADO  \n",
       "8         9.0         0.0        9.5         0.0  NÃO PRESENTE  \n",
       "9         9.1         0.0        7.0         4.0  NÃO PRESENTE  \n",
       "10        6.2         0.0        5.7         0.0  NÃO PRESENTE  "
      ]
     },
     "execution_count": 59,
     "metadata": {},
     "output_type": "execute_result"
    }
   ],
   "source": [
    "alunos.head(10)"
   ]
  },
  {
   "cell_type": "code",
   "execution_count": 60,
   "metadata": {},
   "outputs": [],
   "source": [
    "alunos.to_csv(\"data/output/resultado_materias_2016_2.csv\", index=False)"
   ]
  },
  {
   "cell_type": "code",
   "execution_count": null,
   "metadata": {},
   "outputs": [],
   "source": []
  }
 ],
 "metadata": {
  "kernelspec": {
   "display_name": "Python 3",
   "language": "python",
   "name": "python3"
  },
  "language_info": {
   "codemirror_mode": {
    "name": "ipython",
    "version": 3
   },
   "file_extension": ".py",
   "mimetype": "text/x-python",
   "name": "python",
   "nbconvert_exporter": "python",
   "pygments_lexer": "ipython3",
   "version": "3.6.4"
  }
 },
 "nbformat": 4,
 "nbformat_minor": 2
}
