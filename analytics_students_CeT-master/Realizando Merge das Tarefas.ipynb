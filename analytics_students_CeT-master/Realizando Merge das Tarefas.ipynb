{
 "cells": [
  {
   "cell_type": "code",
   "execution_count": 152,
   "metadata": {},
   "outputs": [],
   "source": [
    "import pandas as pd"
   ]
  },
  {
   "cell_type": "code",
   "execution_count": 179,
   "metadata": {},
   "outputs": [],
   "source": [
    "# unificando dados de 2015.1\n",
    "c1 = pd.read_csv(\"data/input/calc1_20151.csv\")\n",
    "pre = pd.read_csv(\"data/input/precalc_20151.csv\")\n",
    "vga = pd.read_csv(\"data/input/vga_20151.csv\")"
   ]
  },
  {
   "cell_type": "code",
   "execution_count": 180,
   "metadata": {},
   "outputs": [
    {
     "name": "stdout",
     "output_type": "stream",
     "text": [
      "(822, 9) (849, 9) (775, 9)\n"
     ]
    }
   ],
   "source": [
    "print(c1.shape, pre.shape, vga.shape)"
   ]
  },
  {
   "cell_type": "code",
   "execution_count": 181,
   "metadata": {},
   "outputs": [],
   "source": [
    "c1 = c1[['discente', 'media_final', 'numero_total_faltas', 'periodoano']].drop_duplicates()\n",
    "pre = pre[['discente', 'media_final', 'numero_total_faltas']].drop_duplicates()\n",
    "vga = vga[['discente', 'media_final', 'numero_total_faltas']].drop_duplicates()"
   ]
  },
  {
   "cell_type": "code",
   "execution_count": 182,
   "metadata": {},
   "outputs": [],
   "source": [
    "# Renomeando as colunas de calculo 1\n",
    "c1['media_c1'] = c1['media_final']\n",
    "c1.drop(['media_final'], axis = 1, inplace=True)\n",
    "c1['faltas_c1'] = c1['numero_total_faltas']\n",
    "c1.drop(['numero_total_faltas'], axis = 1, inplace=True)"
   ]
  },
  {
   "cell_type": "code",
   "execution_count": 183,
   "metadata": {},
   "outputs": [],
   "source": [
    "# Renomeando as colunas de precalc\n",
    "pre['media_pre'] = pre['media_final']\n",
    "pre.drop(['media_final'], axis = 1, inplace=True)\n",
    "pre['faltas_pre'] = pre['numero_total_faltas']\n",
    "pre.drop(['numero_total_faltas'], axis = 1, inplace=True)"
   ]
  },
  {
   "cell_type": "code",
   "execution_count": 184,
   "metadata": {},
   "outputs": [],
   "source": [
    "# Renomeando as colunas de VGA\n",
    "vga['media_vga'] = vga['media_final']\n",
    "vga.drop(['media_final'], axis = 1, inplace=True)\n",
    "vga['faltas_vga'] = vga['numero_total_faltas']\n",
    "vga.drop(['numero_total_faltas'], axis = 1, inplace=True)"
   ]
  },
  {
   "cell_type": "code",
   "execution_count": 185,
   "metadata": {},
   "outputs": [
    {
     "name": "stdout",
     "output_type": "stream",
     "text": [
      "(758, 4) (727, 3) (692, 3)\n"
     ]
    }
   ],
   "source": [
    "print(c1.shape, pre.shape, vga.shape)"
   ]
  },
  {
   "cell_type": "code",
   "execution_count": 186,
   "metadata": {},
   "outputs": [],
   "source": [
    "alunos_aux = pd.merge(c1, pre, how='inner', left_on='discente', right_on='discente')"
   ]
  },
  {
   "cell_type": "code",
   "execution_count": 187,
   "metadata": {},
   "outputs": [
    {
     "data": {
      "text/plain": [
       "(590, 6)"
      ]
     },
     "execution_count": 187,
     "metadata": {},
     "output_type": "execute_result"
    }
   ],
   "source": [
    "alunos_aux.shape"
   ]
  },
  {
   "cell_type": "code",
   "execution_count": 188,
   "metadata": {},
   "outputs": [],
   "source": [
    "alunos = pd.merge(alunos_aux, vga, how='inner', left_on='discente', right_on='discente')"
   ]
  },
  {
   "cell_type": "code",
   "execution_count": 189,
   "metadata": {},
   "outputs": [
    {
     "data": {
      "text/plain": [
       "(525, 8)"
      ]
     },
     "execution_count": 189,
     "metadata": {},
     "output_type": "execute_result"
    }
   ],
   "source": [
    "alunos.shape"
   ]
  },
  {
   "cell_type": "code",
   "execution_count": 190,
   "metadata": {},
   "outputs": [
    {
     "data": {
      "text/html": [
       "<div>\n",
       "<style scoped>\n",
       "    .dataframe tbody tr th:only-of-type {\n",
       "        vertical-align: middle;\n",
       "    }\n",
       "\n",
       "    .dataframe tbody tr th {\n",
       "        vertical-align: top;\n",
       "    }\n",
       "\n",
       "    .dataframe thead th {\n",
       "        text-align: right;\n",
       "    }\n",
       "</style>\n",
       "<table border=\"1\" class=\"dataframe\">\n",
       "  <thead>\n",
       "    <tr style=\"text-align: right;\">\n",
       "      <th></th>\n",
       "      <th>discente</th>\n",
       "      <th>periodoano</th>\n",
       "      <th>media_c1</th>\n",
       "      <th>faltas_c1</th>\n",
       "      <th>media_pre</th>\n",
       "      <th>faltas_pre</th>\n",
       "      <th>media_vga</th>\n",
       "      <th>faltas_vga</th>\n",
       "    </tr>\n",
       "  </thead>\n",
       "  <tbody>\n",
       "    <tr>\n",
       "      <th>0</th>\n",
       "      <td>3d688dbe74a84992ce43181e08c0f295</td>\n",
       "      <td>20151</td>\n",
       "      <td>0.0</td>\n",
       "      <td>0.0</td>\n",
       "      <td>0.0</td>\n",
       "      <td>66.0</td>\n",
       "      <td>0.1</td>\n",
       "      <td>30.0</td>\n",
       "    </tr>\n",
       "    <tr>\n",
       "      <th>1</th>\n",
       "      <td>6c4acceb9b1288b61d893dc1b5005764</td>\n",
       "      <td>20151</td>\n",
       "      <td>0.0</td>\n",
       "      <td>0.0</td>\n",
       "      <td>5.3</td>\n",
       "      <td>16.0</td>\n",
       "      <td>3.1</td>\n",
       "      <td>0.0</td>\n",
       "    </tr>\n",
       "    <tr>\n",
       "      <th>2</th>\n",
       "      <td>bb67c2ca87d0e1fcf027b2f0f6df4221</td>\n",
       "      <td>20151</td>\n",
       "      <td>8.5</td>\n",
       "      <td>0.0</td>\n",
       "      <td>9.7</td>\n",
       "      <td>16.0</td>\n",
       "      <td>6.3</td>\n",
       "      <td>0.0</td>\n",
       "    </tr>\n",
       "    <tr>\n",
       "      <th>3</th>\n",
       "      <td>9897eefc366f1f546e5340390c3df0cd</td>\n",
       "      <td>20151</td>\n",
       "      <td>1.3</td>\n",
       "      <td>0.0</td>\n",
       "      <td>5.0</td>\n",
       "      <td>14.0</td>\n",
       "      <td>1.2</td>\n",
       "      <td>0.0</td>\n",
       "    </tr>\n",
       "    <tr>\n",
       "      <th>4</th>\n",
       "      <td>859abe9fcb5769f73f54cba6592b81af</td>\n",
       "      <td>20151</td>\n",
       "      <td>1.7</td>\n",
       "      <td>0.0</td>\n",
       "      <td>5.3</td>\n",
       "      <td>2.0</td>\n",
       "      <td>1.3</td>\n",
       "      <td>0.0</td>\n",
       "    </tr>\n",
       "    <tr>\n",
       "      <th>5</th>\n",
       "      <td>4847ea230075170dc33c8607eab37780</td>\n",
       "      <td>20151</td>\n",
       "      <td>8.0</td>\n",
       "      <td>0.0</td>\n",
       "      <td>6.8</td>\n",
       "      <td>0.0</td>\n",
       "      <td>5.3</td>\n",
       "      <td>0.0</td>\n",
       "    </tr>\n",
       "    <tr>\n",
       "      <th>6</th>\n",
       "      <td>10bd3053637b8e5150a822396f62f372</td>\n",
       "      <td>20151</td>\n",
       "      <td>7.2</td>\n",
       "      <td>0.0</td>\n",
       "      <td>6.3</td>\n",
       "      <td>4.0</td>\n",
       "      <td>6.7</td>\n",
       "      <td>0.0</td>\n",
       "    </tr>\n",
       "    <tr>\n",
       "      <th>7</th>\n",
       "      <td>d00171e04d77a7994414014d941baf8c</td>\n",
       "      <td>20151</td>\n",
       "      <td>10.0</td>\n",
       "      <td>0.0</td>\n",
       "      <td>7.2</td>\n",
       "      <td>0.0</td>\n",
       "      <td>6.5</td>\n",
       "      <td>0.0</td>\n",
       "    </tr>\n",
       "    <tr>\n",
       "      <th>8</th>\n",
       "      <td>87c8ed9b5ee46a87b620af169806703f</td>\n",
       "      <td>20151</td>\n",
       "      <td>7.8</td>\n",
       "      <td>0.0</td>\n",
       "      <td>10.0</td>\n",
       "      <td>0.0</td>\n",
       "      <td>6.8</td>\n",
       "      <td>0.0</td>\n",
       "    </tr>\n",
       "    <tr>\n",
       "      <th>9</th>\n",
       "      <td>3ff085f94a31cdddd21d355d0d8f6438</td>\n",
       "      <td>20151</td>\n",
       "      <td>10.0</td>\n",
       "      <td>0.0</td>\n",
       "      <td>8.8</td>\n",
       "      <td>4.0</td>\n",
       "      <td>8.1</td>\n",
       "      <td>0.0</td>\n",
       "    </tr>\n",
       "  </tbody>\n",
       "</table>\n",
       "</div>"
      ],
      "text/plain": [
       "                           discente  periodoano  media_c1  faltas_c1  \\\n",
       "0  3d688dbe74a84992ce43181e08c0f295       20151       0.0        0.0   \n",
       "1  6c4acceb9b1288b61d893dc1b5005764       20151       0.0        0.0   \n",
       "2  bb67c2ca87d0e1fcf027b2f0f6df4221       20151       8.5        0.0   \n",
       "3  9897eefc366f1f546e5340390c3df0cd       20151       1.3        0.0   \n",
       "4  859abe9fcb5769f73f54cba6592b81af       20151       1.7        0.0   \n",
       "5  4847ea230075170dc33c8607eab37780       20151       8.0        0.0   \n",
       "6  10bd3053637b8e5150a822396f62f372       20151       7.2        0.0   \n",
       "7  d00171e04d77a7994414014d941baf8c       20151      10.0        0.0   \n",
       "8  87c8ed9b5ee46a87b620af169806703f       20151       7.8        0.0   \n",
       "9  3ff085f94a31cdddd21d355d0d8f6438       20151      10.0        0.0   \n",
       "\n",
       "   media_pre  faltas_pre  media_vga  faltas_vga  \n",
       "0        0.0        66.0        0.1        30.0  \n",
       "1        5.3        16.0        3.1         0.0  \n",
       "2        9.7        16.0        6.3         0.0  \n",
       "3        5.0        14.0        1.2         0.0  \n",
       "4        5.3         2.0        1.3         0.0  \n",
       "5        6.8         0.0        5.3         0.0  \n",
       "6        6.3         4.0        6.7         0.0  \n",
       "7        7.2         0.0        6.5         0.0  \n",
       "8       10.0         0.0        6.8         0.0  \n",
       "9        8.8         4.0        8.1         0.0  "
      ]
     },
     "execution_count": 190,
     "metadata": {},
     "output_type": "execute_result"
    }
   ],
   "source": [
    "alunos.head(10)"
   ]
  },
  {
   "cell_type": "code",
   "execution_count": 191,
   "metadata": {},
   "outputs": [],
   "source": [
    "alunos.to_csv(\"data/output/materias_2015_1.csv\", index=False)"
   ]
  },
  {
   "cell_type": "code",
   "execution_count": null,
   "metadata": {},
   "outputs": [],
   "source": []
  }
 ],
 "metadata": {
  "kernelspec": {
   "display_name": "Python 3",
   "language": "python",
   "name": "python3"
  },
  "language_info": {
   "codemirror_mode": {
    "name": "ipython",
    "version": 3
   },
   "file_extension": ".py",
   "mimetype": "text/x-python",
   "name": "python",
   "nbconvert_exporter": "python",
   "pygments_lexer": "ipython3",
   "version": "3.6.4"
  }
 },
 "nbformat": 4,
 "nbformat_minor": 2
}
