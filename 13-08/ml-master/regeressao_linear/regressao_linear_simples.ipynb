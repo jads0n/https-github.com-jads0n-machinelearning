{
  "nbformat": 4,
  "nbformat_minor": 0,
  "metadata": {
    "colab": {
      "name": "linar_regressao_simples.ipynb",
      "version": "0.3.2",
      "views": {},
      "default_view": {},
      "provenance": []
    },
    "kernelspec": {
      "name": "python3",
      "display_name": "Python 3"
    }
  },
  "cells": [
    {
      "metadata": {
        "id": "OEgSayQNBuaZ",
        "colab_type": "text"
      },
      "cell_type": "markdown",
      "source": [
        "# Regeressão Linear Simples\n",
        "\n",
        "Lendo dados: neste caso a base de dados é conhecida. \n",
        "\n",
        "\n",
        "Origem deste exemplo: http://scikit-learn.org/stable/auto_examples/linear_model/plot_ols.html#sphx-glr-auto-examples-linear-model-plot-ols-py "
      ]
    },
    {
      "metadata": {
        "id": "8mCA5Ir-BUWc",
        "colab_type": "code",
        "colab": {
          "autoexec": {
            "startup": false,
            "wait_interval": 0
          },
          "base_uri": "https://localhost:8080/",
          "height": 34
        },
        "outputId": "550348df-6ef7-42aa-812a-78b64c6bb7af",
        "executionInfo": {
          "status": "ok",
          "timestamp": 1533589209671,
          "user_tz": 180,
          "elapsed": 686,
          "user": {
            "displayName": "Orivaldo Santana Jr",
            "photoUrl": "//lh6.googleusercontent.com/-RnXOItIBWe8/AAAAAAAAAAI/AAAAAAAAHZQ/XRKSApQPjYs/s50-c-k-no/photo.jpg",
            "userId": "111723225011550402480"
          }
        }
      },
      "cell_type": "code",
      "source": [
        "print(__doc__)\n",
        "\n",
        "\n",
        "# Code source: Jaques Grobler\n",
        "# License: BSD 3 clause\n",
        "\n",
        "\n",
        "import matplotlib.pyplot as plt\n",
        "import numpy as np\n",
        "from sklearn import datasets, linear_model\n",
        "from sklearn.metrics import mean_squared_error, r2_score\n",
        "\n",
        "# Load the diabetes dataset\n",
        "diabetes = datasets.load_diabetes()"
      ],
      "execution_count": 2,
      "outputs": [
        {
          "output_type": "stream",
          "text": [
            "Automatically created module for IPython interactive environment\n"
          ],
          "name": "stdout"
        }
      ]
    },
    {
      "metadata": {
        "id": "E3PYlZhLCs5p",
        "colab_type": "text"
      },
      "cell_type": "markdown",
      "source": [
        "Pegando apenas uma característica \n",
        "\n",
        "*   Todos os elementos menos os vinte primeiros para treinamento \n",
        "*   Os vinte últimos para testes \n",
        "\n"
      ]
    },
    {
      "metadata": {
        "id": "qW5HTl25Cwf4",
        "colab_type": "code",
        "colab": {
          "autoexec": {
            "startup": false,
            "wait_interval": 0
          }
        }
      },
      "cell_type": "code",
      "source": [
        "# Use only one feature\n",
        "diabetes_X = diabetes.data[:, np.newaxis, 2]\n",
        "\n",
        "# Split the data into training/testing sets\n",
        "diabetes_X_train = diabetes_X[:-20]\n",
        "diabetes_X_test = diabetes_X[-20:]\n",
        "\n",
        "# Split the targets into training/testing sets\n",
        "diabetes_y_train = diabetes.target[:-20]\n",
        "diabetes_y_test = diabetes.target[-20:]\n"
      ],
      "execution_count": 0,
      "outputs": []
    },
    {
      "metadata": {
        "id": "lQTskfRuFszN",
        "colab_type": "text"
      },
      "cell_type": "markdown",
      "source": [
        "Gerando o objeto para a regressão linear "
      ]
    },
    {
      "metadata": {
        "id": "iCwbIJM_C__q",
        "colab_type": "code",
        "colab": {
          "autoexec": {
            "startup": false,
            "wait_interval": 0
          }
        }
      },
      "cell_type": "code",
      "source": [
        "# Create linear regression object\n",
        "regr = linear_model.LinearRegression()"
      ],
      "execution_count": 0,
      "outputs": []
    },
    {
      "metadata": {
        "id": "XUfYTpPCGc28",
        "colab_type": "code",
        "colab": {
          "autoexec": {
            "startup": false,
            "wait_interval": 0
          },
          "base_uri": "https://localhost:8080/",
          "height": 34
        },
        "outputId": "9288b5fe-ff0b-4e1a-c3e4-3768c3d4e512",
        "executionInfo": {
          "status": "ok",
          "timestamp": 1533591029089,
          "user_tz": 180,
          "elapsed": 719,
          "user": {
            "displayName": "Orivaldo Santana Jr",
            "photoUrl": "//lh6.googleusercontent.com/-RnXOItIBWe8/AAAAAAAAAAI/AAAAAAAAHZQ/XRKSApQPjYs/s50-c-k-no/photo.jpg",
            "userId": "111723225011550402480"
          }
        }
      },
      "cell_type": "code",
      "source": [
        "# Train the model using the training sets\n",
        "regr.fit(diabetes_X_train, diabetes_y_train)"
      ],
      "execution_count": 26,
      "outputs": [
        {
          "output_type": "execute_result",
          "data": {
            "text/plain": [
              "LinearRegression(copy_X=True, fit_intercept=True, n_jobs=1, normalize=False)"
            ]
          },
          "metadata": {
            "tags": []
          },
          "execution_count": 26
        }
      ]
    },
    {
      "metadata": {
        "id": "JPZM1-c9Gxax",
        "colab_type": "code",
        "colab": {
          "autoexec": {
            "startup": false,
            "wait_interval": 0
          }
        }
      },
      "cell_type": "code",
      "source": [
        "# Make predictions using the testing set\n",
        "diabetes_y_pred = regr.predict(diabetes_X_test)"
      ],
      "execution_count": 0,
      "outputs": []
    },
    {
      "metadata": {
        "id": "YYorxy-SG5u_",
        "colab_type": "code",
        "colab": {
          "autoexec": {
            "startup": false,
            "wait_interval": 0
          },
          "base_uri": "https://localhost:8080/",
          "height": 85
        },
        "outputId": "f391a22d-6bcd-4acd-de19-644422e23a0c",
        "executionInfo": {
          "status": "ok",
          "timestamp": 1533591032972,
          "user_tz": 180,
          "elapsed": 726,
          "user": {
            "displayName": "Orivaldo Santana Jr",
            "photoUrl": "//lh6.googleusercontent.com/-RnXOItIBWe8/AAAAAAAAAAI/AAAAAAAAHZQ/XRKSApQPjYs/s50-c-k-no/photo.jpg",
            "userId": "111723225011550402480"
          }
        }
      },
      "cell_type": "code",
      "source": [
        "# The coefficients\n",
        "print('Coefficients: \\n', regr.coef_)\n",
        "# The mean squared error\n",
        "print(\"Mean squared error: %.2f\"\n",
        "      % mean_squared_error(diabetes_y_test, diabetes_y_pred))\n",
        "# Explained variance score: 1 is perfect prediction\n",
        "print('Variance score: %.2f' % r2_score(diabetes_y_test, diabetes_y_pred))"
      ],
      "execution_count": 28,
      "outputs": [
        {
          "output_type": "stream",
          "text": [
            "Coefficients: \n",
            " [938.23786125]\n",
            "Mean squared error: 2548.07\n",
            "Variance score: 0.47\n"
          ],
          "name": "stdout"
        }
      ]
    },
    {
      "metadata": {
        "id": "5Uf_G3TIHL3A",
        "colab_type": "code",
        "colab": {
          "autoexec": {
            "startup": false,
            "wait_interval": 0
          },
          "base_uri": "https://localhost:8080/",
          "height": 330
        },
        "outputId": "cb5742c9-5896-4297-bfb2-ee37dcf8b339",
        "executionInfo": {
          "status": "ok",
          "timestamp": 1533591036975,
          "user_tz": 180,
          "elapsed": 685,
          "user": {
            "displayName": "Orivaldo Santana Jr",
            "photoUrl": "//lh6.googleusercontent.com/-RnXOItIBWe8/AAAAAAAAAAI/AAAAAAAAHZQ/XRKSApQPjYs/s50-c-k-no/photo.jpg",
            "userId": "111723225011550402480"
          }
        }
      },
      "cell_type": "code",
      "source": [
        "# Plot outputs\n",
        "plt.scatter(diabetes_X_test, diabetes_y_test,  color='black')\n",
        "plt.plot(diabetes_X_test, diabetes_y_pred, color='blue', linewidth=3)\n",
        "\n",
        "plt.xticks(())\n",
        "plt.yticks(())\n",
        "\n",
        "plt.show()"
      ],
      "execution_count": 29,
      "outputs": [
        {
          "output_type": "display_data",
          "data": {
            "image/png": "[encoded data removed]",
            "text/plain": [
              "<matplotlib.figure.Figure at 0x7f9417ca3b38>"
            ]
          },
          "metadata": {
            "tags": []
          }
        }
      ]
    },
    {
      "metadata": {
        "id": "y0NOLbTZHTDD",
        "colab_type": "code",
        "colab": {
          "autoexec": {
            "startup": false,
            "wait_interval": 0
          },
          "base_uri": "https://localhost:8080/",
          "height": 85
        },
        "outputId": "4f7c9690-ce2f-45dd-b48e-e53976f4d812",
        "executionInfo": {
          "status": "ok",
          "timestamp": 1533590706509,
          "user_tz": 180,
          "elapsed": 916,
          "user": {
            "displayName": "Orivaldo Santana Jr",
            "photoUrl": "//lh6.googleusercontent.com/-RnXOItIBWe8/AAAAAAAAAAI/AAAAAAAAHZQ/XRKSApQPjYs/s50-c-k-no/photo.jpg",
            "userId": "111723225011550402480"
          }
        }
      },
      "cell_type": "code",
      "source": [
        "print(diabetes_y_pred);"
      ],
      "execution_count": 18,
      "outputs": [
        {
          "output_type": "stream",
          "text": [
            "[225.9732401  115.74763374 163.27610621 114.73638965 120.80385422\n",
            " 158.21988574 236.08568105 121.81509832  99.56772822 123.83758651\n",
            " 204.73711411  96.53399594 154.17490936 130.91629517  83.3878227\n",
            " 171.36605897 137.99500384 137.99500384 189.56845268  84.3990668 ]\n"
          ],
          "name": "stdout"
        }
      ]
    }
  ]
}