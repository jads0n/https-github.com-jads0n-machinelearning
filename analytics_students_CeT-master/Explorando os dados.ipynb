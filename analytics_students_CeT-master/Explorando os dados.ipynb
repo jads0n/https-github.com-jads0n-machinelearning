{
 "cells": [
  {
   "cell_type": "code",
   "execution_count": 2,
   "metadata": {},
   "outputs": [],
   "source": [
    "import pandas as pd"
   ]
  },
  {
   "cell_type": "code",
   "execution_count": 8,
   "metadata": {},
   "outputs": [],
   "source": [
    "data = pd.read_csv(\"../turmas_2015-2017.csv\")"
   ]
  },
  {
   "cell_type": "code",
   "execution_count": 9,
   "metadata": {},
   "outputs": [
    {
     "data": {
      "text/html": [
       "<div>\n",
       "<style scoped>\n",
       "    .dataframe tbody tr th:only-of-type {\n",
       "        vertical-align: middle;\n",
       "    }\n",
       "\n",
       "    .dataframe tbody tr th {\n",
       "        vertical-align: top;\n",
       "    }\n",
       "\n",
       "    .dataframe thead th {\n",
       "        text-align: right;\n",
       "    }\n",
       "</style>\n",
       "<table border=\"1\" class=\"dataframe\">\n",
       "  <thead>\n",
       "    <tr style=\"text-align: right;\">\n",
       "      <th></th>\n",
       "      <th>Unnamed: 0</th>\n",
       "      <th>descricao</th>\n",
       "      <th>discente</th>\n",
       "      <th>id_turma</th>\n",
       "      <th>media_final</th>\n",
       "      <th>codigo</th>\n",
       "      <th>nome</th>\n",
       "      <th>ano</th>\n",
       "      <th>periodo</th>\n",
       "      <th>unidade_responsavel</th>\n",
       "      <th>id_curso</th>\n",
       "      <th>periodoano</th>\n",
       "    </tr>\n",
       "  </thead>\n",
       "  <tbody>\n",
       "    <tr>\n",
       "      <th>0</th>\n",
       "      <td>0</td>\n",
       "      <td>APROVADO POR NOTA</td>\n",
       "      <td>dbe7197a41191f5a94486623cb99d2bf</td>\n",
       "      <td>1242771</td>\n",
       "      <td>6.7</td>\n",
       "      <td>ECT2304</td>\n",
       "      <td>INTRODUÇÃO À FÍSICA CLÁSSICA II</td>\n",
       "      <td>2015</td>\n",
       "      <td>1</td>\n",
       "      <td>ESCOLA DE CIÊNCIAS E TECNOLOGIA</td>\n",
       "      <td>10320810.0</td>\n",
       "      <td>20151</td>\n",
       "    </tr>\n",
       "    <tr>\n",
       "      <th>1</th>\n",
       "      <td>1</td>\n",
       "      <td>APROVADO POR NOTA</td>\n",
       "      <td>dbe7197a41191f5a94486623cb99d2bf</td>\n",
       "      <td>1242771</td>\n",
       "      <td>6.7</td>\n",
       "      <td>ECT2304</td>\n",
       "      <td>INTRODUÇÃO À FÍSICA CLÁSSICA II</td>\n",
       "      <td>2015</td>\n",
       "      <td>1</td>\n",
       "      <td>ESCOLA DE CIÊNCIAS E TECNOLOGIA</td>\n",
       "      <td>10320810.0</td>\n",
       "      <td>20151</td>\n",
       "    </tr>\n",
       "    <tr>\n",
       "      <th>2</th>\n",
       "      <td>2</td>\n",
       "      <td>APROVADO POR NOTA</td>\n",
       "      <td>dbe7197a41191f5a94486623cb99d2bf</td>\n",
       "      <td>1242771</td>\n",
       "      <td>6.7</td>\n",
       "      <td>ECT2304</td>\n",
       "      <td>INTRODUÇÃO À FÍSICA CLÁSSICA II</td>\n",
       "      <td>2015</td>\n",
       "      <td>1</td>\n",
       "      <td>ESCOLA DE CIÊNCIAS E TECNOLOGIA</td>\n",
       "      <td>10320810.0</td>\n",
       "      <td>20151</td>\n",
       "    </tr>\n",
       "    <tr>\n",
       "      <th>3</th>\n",
       "      <td>5</td>\n",
       "      <td>REPROVADO</td>\n",
       "      <td>770752c8299e765fea3bee00058687da</td>\n",
       "      <td>1242771</td>\n",
       "      <td>4.0</td>\n",
       "      <td>ECT2304</td>\n",
       "      <td>INTRODUÇÃO À FÍSICA CLÁSSICA II</td>\n",
       "      <td>2015</td>\n",
       "      <td>1</td>\n",
       "      <td>ESCOLA DE CIÊNCIAS E TECNOLOGIA</td>\n",
       "      <td>10320810.0</td>\n",
       "      <td>20151</td>\n",
       "    </tr>\n",
       "    <tr>\n",
       "      <th>4</th>\n",
       "      <td>6</td>\n",
       "      <td>REPROVADO</td>\n",
       "      <td>770752c8299e765fea3bee00058687da</td>\n",
       "      <td>1242771</td>\n",
       "      <td>4.0</td>\n",
       "      <td>ECT2304</td>\n",
       "      <td>INTRODUÇÃO À FÍSICA CLÁSSICA II</td>\n",
       "      <td>2015</td>\n",
       "      <td>1</td>\n",
       "      <td>ESCOLA DE CIÊNCIAS E TECNOLOGIA</td>\n",
       "      <td>10320810.0</td>\n",
       "      <td>20151</td>\n",
       "    </tr>\n",
       "  </tbody>\n",
       "</table>\n",
       "</div>"
      ],
      "text/plain": [
       "   Unnamed: 0          descricao                          discente  id_turma  \\\n",
       "0           0  APROVADO POR NOTA  dbe7197a41191f5a94486623cb99d2bf   1242771   \n",
       "1           1  APROVADO POR NOTA  dbe7197a41191f5a94486623cb99d2bf   1242771   \n",
       "2           2  APROVADO POR NOTA  dbe7197a41191f5a94486623cb99d2bf   1242771   \n",
       "3           5          REPROVADO  770752c8299e765fea3bee00058687da   1242771   \n",
       "4           6          REPROVADO  770752c8299e765fea3bee00058687da   1242771   \n",
       "\n",
       "   media_final   codigo                             nome   ano  periodo  \\\n",
       "0          6.7  ECT2304  INTRODUÇÃO À FÍSICA CLÁSSICA II  2015        1   \n",
       "1          6.7  ECT2304  INTRODUÇÃO À FÍSICA CLÁSSICA II  2015        1   \n",
       "2          6.7  ECT2304  INTRODUÇÃO À FÍSICA CLÁSSICA II  2015        1   \n",
       "3          4.0  ECT2304  INTRODUÇÃO À FÍSICA CLÁSSICA II  2015        1   \n",
       "4          4.0  ECT2304  INTRODUÇÃO À FÍSICA CLÁSSICA II  2015        1   \n",
       "\n",
       "               unidade_responsavel    id_curso  periodoano  \n",
       "0  ESCOLA DE CIÊNCIAS E TECNOLOGIA  10320810.0       20151  \n",
       "1  ESCOLA DE CIÊNCIAS E TECNOLOGIA  10320810.0       20151  \n",
       "2  ESCOLA DE CIÊNCIAS E TECNOLOGIA  10320810.0       20151  \n",
       "3  ESCOLA DE CIÊNCIAS E TECNOLOGIA  10320810.0       20151  \n",
       "4  ESCOLA DE CIÊNCIAS E TECNOLOGIA  10320810.0       20151  "
      ]
     },
     "execution_count": 9,
     "metadata": {},
     "output_type": "execute_result"
    }
   ],
   "source": [
    "data.head()"
   ]
  },
  {
   "cell_type": "code",
   "execution_count": 10,
   "metadata": {},
   "outputs": [
    {
     "data": {
      "text/plain": [
       "(83546, 12)"
      ]
     },
     "execution_count": 10,
     "metadata": {},
     "output_type": "execute_result"
    }
   ],
   "source": [
    "data.shape"
   ]
  },
  {
   "cell_type": "markdown",
   "metadata": {},
   "source": [
    "# Pensando em montar Dataset\n",
    "Poderiamos montar o dataset agrupando por aluno, onde teriamos uma coluna para a notas nas primeiras materias: Pre-calculo, Cálculo 1, VGA, CTS, PLE e Química"
   ]
  },
  {
   "cell_type": "code",
   "execution_count": 11,
   "metadata": {},
   "outputs": [
    {
     "data": {
      "text/plain": [
       "0          INTRODUÇÃO À FÍSICA CLÁSSICA II\n",
       "660     CIÊNCIA E TECNOLOGIA DOS MATERIAIS\n",
       "837                    COMPUTAÇÃO NUMÉRICA\n",
       "1005           PROBABILIDADE E ESTATÍSTICA\n",
       "1464                            CÁLCULO II\n",
       "1989              LINGUAGEM DE PROGRAMAÇÃO\n",
       "2047                  MECÂNICA DOS FLUIDOS\n",
       "3005                        ÁLGEBRA LINEAR\n",
       "4082        INTRODUÇÃO À FÍSICA CLÁSSICA I\n",
       "4766                           CÁLCULO III\n",
       "8564      INTRODUÇÃO À FÍSICA CLÁSSICA III\n",
       "9059                  MECÂNICA DOS SÓLIDOS\n",
       "Name: nome, dtype: object"
      ]
     },
     "execution_count": 11,
     "metadata": {},
     "output_type": "execute_result"
    }
   ],
   "source": [
    "data['nome'].drop_duplicates()"
   ]
  },
  {
   "cell_type": "code",
   "execution_count": null,
   "metadata": {},
   "outputs": [],
   "source": []
  }
 ],
 "metadata": {
  "kernelspec": {
   "display_name": "Python 3",
   "language": "python",
   "name": "python3"
  },
  "language_info": {
   "codemirror_mode": {
    "name": "ipython",
    "version": 3
   },
   "file_extension": ".py",
   "mimetype": "text/x-python",
   "name": "python",
   "nbconvert_exporter": "python",
   "pygments_lexer": "ipython3",
   "version": "3.6.4"
  }
 },
 "nbformat": 4,
 "nbformat_minor": 2
}
